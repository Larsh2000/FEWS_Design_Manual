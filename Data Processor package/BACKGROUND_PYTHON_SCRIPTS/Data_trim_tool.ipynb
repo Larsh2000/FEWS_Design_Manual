{
 "cells": [
  {
   "cell_type": "code",
   "execution_count": 1,
   "id": "27bb1e7d-b824-4745-8eaf-8d8f00346d03",
   "metadata": {
    "tags": []
   },
   "outputs": [],
   "source": [
    "# Import statements\n",
    "%matplotlib widget\n",
    "import sys\n",
    "import os\n",
    "from pathlib import Path\n",
    "\n",
    "# Setting up the working directory\n",
    "def find_project_dir(current_dir):\n",
    "    for parent in current_dir.parents:\n",
    "        if (parent / 'README.txt').exists():\n",
    "            return parent\n",
    "    return current_dir\n",
    "\n",
    "current_directory = Path(os.getcwd())\n",
    "project_dir = find_project_dir(current_directory)\n",
    "os.chdir(project_dir)\n",
    "\n",
    "# Creating working directories\n",
    "notebooks_dir = project_dir / 'BACKGROUND_PYTHON_SCRIPTS'\n",
    "data_dir = project_dir / 'input'\n",
    "output_dir = project_dir / 'output'\n",
    "data_selection = notebooks_dir / 'Data_Selection_Tool.ipynb'\n",
    "functions_path = notebooks_dir / 'FUNCTIONS'\n",
    "sys.path.append(str(functions_path))"
   ]
  },
  {
   "cell_type": "code",
   "execution_count": 2,
   "id": "8de6f371-51a8-4613-89f1-d56b6a017007",
   "metadata": {},
   "outputs": [],
   "source": [
    "# Import packages\n",
    "import numpy as np\n",
    "import pandas as pd\n",
    "import matplotlib.pyplot as plt\n",
    "from ipywidgets import interactive, FloatText, FloatSlider, VBox, widgets, Button\n",
    "from IPython.display import display\n",
    "\n",
    "# Import functions\n",
    "from Interactive_plot import update_plot, create_interactive_plot_widget"
   ]
  },
  {
   "cell_type": "code",
   "execution_count": 3,
   "id": "5317e68b-7b18-417f-b2a9-79108eeef4d8",
   "metadata": {},
   "outputs": [
    {
     "data": {
      "application/vnd.jupyter.widget-view+json": {
       "model_id": "c18b8d5567384f2ab70a4eb0cbd05c9c",
       "version_major": 2,
       "version_minor": 0
      },
      "text/plain": [
       "Button(description='Run this cell when data is loaded', layout=Layout(width='210px'), style=ButtonStyle())"
      ]
     },
     "metadata": {},
     "output_type": "display_data"
    },
    {
     "data": {
      "application/vnd.jupyter.widget-view+json": {
       "model_id": "07594108647542719557e1efe4a8aaeb",
       "version_major": 2,
       "version_minor": 0
      },
      "text/plain": [
       "Output()"
      ]
     },
     "metadata": {},
     "output_type": "display_data"
    },
    {
     "data": {
      "application/vnd.jupyter.widget-view+json": {
       "model_id": "33ba695c41a54842a54ea52b0d512181",
       "version_major": 2,
       "version_minor": 0
      },
      "text/plain": [
       "Output()"
      ]
     },
     "metadata": {},
     "output_type": "display_data"
    }
   ],
   "source": [
    "# Button to run the cell when data is loaded\n",
    "run_button = widgets.Button(description=\"Run this cell when data is loaded\",\n",
    "                            layout=widgets.Layout(width='210px'))\n",
    "\n",
    "# Output widget for displaying the slider and plot\n",
    "widget_container = widgets.Output()\n",
    "plot_output = widgets.Output()\n",
    "\n",
    "# Global variable to store cut data\n",
    "data_store_cut = {'data_cut': None}\n",
    "\n",
    "# Function to handle the \"Run this cell\" button click\n",
    "def on_plot_button_click(b):\n",
    "    plot_output.clear_output(wait=True)\n",
    "\n",
    "    # Check if data is imported and thus stored in 'data_store'\n",
    "    if 'data' in data_store and data_store['data'] is not None:\n",
    "        data = data_store['data']\n",
    "        point_name = data_store['point_name']\n",
    "\n",
    "        # Convert latitude and longitude to numeric values & determine range\n",
    "        data['latitude(deg)'] = pd.to_numeric(data['latitude(deg)'], errors='coerce')\n",
    "        data['longitude(deg)'] = pd.to_numeric(data['longitude(deg)'], errors='coerce')\n",
    "\n",
    "        # Finding the first and last measurement point\n",
    "        measurement_start = data['no.'].min()\n",
    "        measurement_stop = data['no.'].max()\n",
    "\n",
    "        # Create and display the widgets for interactive widgets, the function can be found in the \n",
    "        # FUNCTIONS subfolder\n",
    "        create_interactive_plot_widget(measurement_start, measurement_stop, data, widget_container, \n",
    "                                       plot_output, point_name, data_store_cut)\n",
    "\n",
    "        # Display the interactive plot based on the widgets input, the function can be found in the\n",
    "        # FUNCTIONS subfolder\n",
    "        update_plot(point_name, data, measurement_start, measurement_stop, plot_output)\n",
    "\n",
    "    # Give a message if the data is not loaded yet\n",
    "    else:\n",
    "        with plot_output:\n",
    "            plot_output.clear_output(wait=True)\n",
    "            print(\"Data is not yet imported. Please load the data first.\")\n",
    "\n",
    "# Attach the interactive handling notebook on the \"Run this cell when data is loaded\" button\n",
    "run_button.on_click(on_plot_button_click)\n",
    "\n",
    "# Display the button and the output areas for widgets and plots\n",
    "display(run_button)\n",
    "display(widget_container)\n",
    "display(plot_output)"
   ]
  },
  {
   "cell_type": "code",
   "execution_count": null,
   "id": "8daf858a-0386-4bd4-a42e-9c39d2a989da",
   "metadata": {},
   "outputs": [],
   "source": []
  }
 ],
 "metadata": {
  "kernelspec": {
   "display_name": "Python 3 (ipykernel)",
   "language": "python",
   "name": "python3"
  },
  "language_info": {
   "codemirror_mode": {
    "name": "ipython",
    "version": 3
   },
   "file_extension": ".py",
   "mimetype": "text/x-python",
   "name": "python",
   "nbconvert_exporter": "python",
   "pygments_lexer": "ipython3",
   "version": "3.11.4"
  }
 },
 "nbformat": 4,
 "nbformat_minor": 5
}
