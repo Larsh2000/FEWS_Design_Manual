{
 "cells": [
  {
   "cell_type": "code",
   "execution_count": 3,
   "id": "ebeafb51-d5aa-42ba-9e8c-44f0c558106e",
   "metadata": {
    "tags": []
   },
   "outputs": [],
   "source": [
    "%matplotlib widget\n",
    "import sys\n",
    "import os\n",
    "from pathlib import Path\n",
    "\n",
    "# Setting up the working directory\n",
    "def find_project_dir(current_dir):\n",
    "    for parent in current_dir.parents:\n",
    "        if (parent / 'README.txt').exists():\n",
    "            return parent\n",
    "    return current_dir\n",
    "\n",
    "current_directory = Path(os.getcwd())\n",
    "project_dir = find_project_dir(current_directory)\n",
    "os.chdir(project_dir)\n",
    "\n",
    "# Creating working directories\n",
    "notebooks_dir = project_dir / 'BACKGROUND_PYTHON_SCRIPTS'\n",
    "data_dir = project_dir / 'input'\n",
    "output_dir = project_dir / 'output'\n",
    "functions_dir = notebooks_dir / 'FUNCTIONS'\n",
    "sys.path.append(str(functions_dir))"
   ]
  },
  {
   "cell_type": "code",
   "execution_count": 4,
   "id": "6fc1d6f4-02cc-4289-b212-9d42bc97cace",
   "metadata": {
    "tags": []
   },
   "outputs": [],
   "source": [
    "# Import the packages\n",
    "import numpy as np\n",
    "from ipywidgets import interactive, FloatText, FloatSlider, VBox, widgets, Button\n",
    "from IPython.display import display\n",
    "\n",
    "# Import the functions\n",
    "from Import_functions import load_data, clean_data"
   ]
  },
  {
   "cell_type": "code",
   "execution_count": 19,
   "id": "bc10408d-b6d7-4dfe-bbc1-b1e41b56e854",
   "metadata": {
    "tags": []
   },
   "outputs": [
    {
     "data": {
      "application/vnd.jupyter.widget-view+json": {
       "model_id": "9367262e25e048b9b133e794bf9e9780",
       "version_major": 2,
       "version_minor": 0
      },
      "text/plain": [
       "Text(value='', description='Cross profile file name:', layout=Layout(width='600px'), placeholder='Enter the fi…"
      ]
     },
     "metadata": {},
     "output_type": "display_data"
    },
    {
     "data": {
      "application/vnd.jupyter.widget-view+json": {
       "model_id": "78ff88f690e14f1ba7401cc81c8fe69a",
       "version_major": 2,
       "version_minor": 0
      },
      "text/plain": [
       "Text(value='', description='Waterlevel file name:', layout=Layout(width='600px'), placeholder='Enter the file …"
      ]
     },
     "metadata": {},
     "output_type": "display_data"
    },
    {
     "data": {
      "application/vnd.jupyter.widget-view+json": {
       "model_id": "8fec3f8cb3984811a9b3028908bde2d0",
       "version_major": 2,
       "version_minor": 0
      },
      "text/plain": [
       "Text(value='', description='Velocity profilefile name:', layout=Layout(width='600px'), placeholder='Enter the …"
      ]
     },
     "metadata": {},
     "output_type": "display_data"
    },
    {
     "data": {
      "application/vnd.jupyter.widget-view+json": {
       "model_id": "2dd4528f64eb4ab5ac299031a632ed53",
       "version_major": 2,
       "version_minor": 0
      },
      "text/plain": [
       "Text(value='', description='Point name:', layout=Layout(width='600px'), placeholder='Enter the point name', st…"
      ]
     },
     "metadata": {},
     "output_type": "display_data"
    },
    {
     "data": {
      "application/vnd.jupyter.widget-view+json": {
       "model_id": "c8dddb893d2c410d98907e5843a981fa",
       "version_major": 2,
       "version_minor": 0
      },
      "text/plain": [
       "Text(value='', description='Sticklength:', layout=Layout(width='600px'), placeholder='Enter the stick length i…"
      ]
     },
     "metadata": {},
     "output_type": "display_data"
    },
    {
     "data": {
      "application/vnd.jupyter.widget-view+json": {
       "model_id": "276bc5fe98844cdcb4fb8ed05cf230b5",
       "version_major": 2,
       "version_minor": 0
      },
      "text/plain": [
       "Button(description='Import data', style=ButtonStyle())"
      ]
     },
     "metadata": {},
     "output_type": "display_data"
    },
    {
     "data": {
      "application/vnd.jupyter.widget-view+json": {
       "model_id": "79cad8a515f04619a356380fe30ddec8",
       "version_major": 2,
       "version_minor": 0
      },
      "text/plain": [
       "Output()"
      ]
     },
     "metadata": {},
     "output_type": "display_data"
    }
   ],
   "source": [
    "# Global dictionary to store point information and data\n",
    "data_store = {'data': None, 'point_name' : None}\n",
    "\n",
    "# Create input fields for file, point, and stick length\n",
    "file_name_widget = widgets.Text(\n",
    "    value='',\n",
    "    placeholder='Enter the file name of cross profile .pos',\n",
    "    description='Cross profile file name:',\n",
    "    disabled=False,\n",
    "    layout=widgets.Layout(width='600px'),\n",
    "    style={'description_width': '150px'}\n",
    ")\n",
    "\n",
    "wl_file_name_widget = widgets.Text(\n",
    "    value='',\n",
    "    placeholder='Enter the file name of waterlevel .pos',\n",
    "    description='Waterlevel file name:',\n",
    "    disabled=False,\n",
    "    layout=widgets.Layout(width='600px'), \n",
    "    style={'description_width': '150px'}\n",
    ")\n",
    "\n",
    "vp_file_name_widget = widgets.Text(\n",
    "    value='',\n",
    "    placeholder='Enter the file name of velocity profile .csv',\n",
    "    description='Velocity profilefile name:',\n",
    "    disabled=False,\n",
    "    layout=widgets.Layout(width='600px'),\n",
    "    style={'description_width': '150px'}                      \n",
    ")\n",
    "\n",
    "point_name_widget = widgets.Text(\n",
    "    value='',\n",
    "    placeholder='Enter the point name',\n",
    "    description='Point name:',\n",
    "    disabled=False,\n",
    "    layout=widgets.Layout(width='600px'),\n",
    "    style={'description_width': '150px'}\n",
    ")\n",
    "\n",
    "stick_height_widget = widgets.Text(\n",
    "    value='',\n",
    "    placeholder='Enter the stick length in [m]',\n",
    "    description='Sticklength:',\n",
    "    disabled=False,\n",
    "    layout=widgets.Layout(width='600px'), \n",
    "    style={'description_width': '150px'}\n",
    ")\n",
    "\n",
    "# Create the button and output\n",
    "button = widgets.Button(description=\"Import data\")\n",
    "output = widgets.Output()\n",
    "\n",
    "# Create a button click function that uses the load_data and clean_data function\n",
    "def on_button_click(b):\n",
    "    with output:\n",
    "        output.clear_output()\n",
    "        try:\n",
    "            file_name = file_name_widget.value.strip()  # remove spaces in input\n",
    "            wl_file_name = wl_file_name_widget.value.strip()\n",
    "            vp_file_name = vp_file_name_widget.value.strip()\n",
    "            point_name = point_name_widget.value.strip()\n",
    "            stick_length = stick_height_widget.value.strip()  # Correctly access the value attribute\n",
    "\n",
    "            # Step 1: File validation checks\n",
    "            if not file_name:\n",
    "                print(\"Please enter a .pos file located in the GNSS_DATA_FOLDER.\")\n",
    "                return\n",
    "            elif not file_name.endswith('.pos'):\n",
    "                print(\"Invalid file type. Please enter a file with a .pos extension.\")\n",
    "                return\n",
    "            \n",
    "            # Construct the file path (assuming 'data_dir' is defined)\n",
    "            file_path = data_dir / file_name\n",
    "            wl_file_path = data_dir / wl_file_name\n",
    "            # vp_file_path = data_dir / vp_file_name\n",
    "\n",
    "            # Check if the file exists\n",
    "            if not file_path.exists() or not file_path.is_file():\n",
    "                print(f\"File '{file_name}' does not exist in the input folder. Please check the file name or location of the file.\")\n",
    "                return\n",
    "            \n",
    "            if not wl_file_path.exists() or not wl_file_path.is_file():\n",
    "                print(f\"File '{wl_file_name}' does not exist in the input folder. Please check the file name or location of the file.\")\n",
    "                return\n",
    "            \n",
    "            # if not vp_file_path.exists() or not vp_file_path.is_file():\n",
    "            #     print(f\"File '{vp_file_name}' does not exist in the input folder. Please check the file name or location of the file.\")\n",
    "            #     return\n",
    "\n",
    "            # Step 2: Check if point name is provided\n",
    "            if not point_name:\n",
    "                print(\"Please enter a point name.\")\n",
    "                return\n",
    "\n",
    "            # Save the point name to the data_store\n",
    "            data_store['point_name'] = point_name\n",
    "\n",
    "            # Step 3: Check if stick length is provided\n",
    "            if not stick_length:\n",
    "                print(\"Please enter the stick length.\")\n",
    "                return\n",
    "            \n",
    "            # Convert stick length to float\n",
    "            try:\n",
    "                stick_length = float(stick_length)\n",
    "            except ValueError:\n",
    "                print(\"Invalid stick length. Please enter a numeric value and use a point as decimal point.\")\n",
    "                return\n",
    "          \n",
    "            # Step 4: If all validations pass, proceed to load and display the data\n",
    "            print(f\"File '{file_name}' found! The DataFrame for point '{point_name}' is displayed below:\")\n",
    "            # print(f\"File '{wl_file_name}' found! The DataFrame for point '{point_name}' is displayed below:\")\n",
    "\n",
    "            # Use the functions to load and clean the data\n",
    "            data = load_data(file_path)\n",
    "            data_cleaned = clean_data(data)\n",
    "            \n",
    "            wl_data = load_data(wl_file_path)\n",
    "            wl_data_cleaned = clean_data(wl_data)\n",
    "            \n",
    "            # vp_data = pd.read_csv(vp_file_path, delimiter=';', index_col=0)\n",
    "            # vp_data = vp_data.replace(',', '.', regex=True).astype(float)\n",
    "\n",
    "            # Calculate actual height and add the stick length columns\n",
    "            data_cleaned['sticklength'] = stick_length\n",
    "            data_cleaned['actual_height(m)'] = data_cleaned['height(m)'] - stick_length\n",
    "            \n",
    "            wl_data_cleaned['sticklength'] = stick_length\n",
    "            wl_data_cleaned['actual_height(m)'] = wl_data_cleaned['height(m)'] - stick_length\n",
    "\n",
    "            # Display the point name and the cleaned DataFrame\n",
    "            print(f\"Dataframe for: '{point_name}'\")\n",
    "            display(data_cleaned)\n",
    "\n",
    "            #Save the data to the data_store dataframe\n",
    "            data_store['data'] = data_cleaned\n",
    "            data_store['point_name'] = point_name\n",
    "            data_store['wl_data']  = wl_data_cleaned\n",
    "            data_store['vp_file_name'] = vp_file_name\n",
    "            # data_store['vp_data'] = vp_data\n",
    "\n",
    "        except Exception as e:\n",
    "            print(f\"An error occurred: {e}\")\n",
    "\n",
    "# Attach the button click handler\n",
    "button.on_click(on_button_click)\n",
    "\n",
    "# Display the input fields, button, and output in the notebook\n",
    "display(file_name_widget)\n",
    "display(wl_file_name_widget)\n",
    "display(vp_file_name_widget)\n",
    "display(point_name_widget)\n",
    "display(stick_height_widget)\n",
    "display(button)\n",
    "display(output)"
   ]
  },
  {
   "cell_type": "code",
   "execution_count": null,
   "id": "af9e3216-0515-442e-9068-ee553612259a",
   "metadata": {},
   "outputs": [],
   "source": []
  }
 ],
 "metadata": {
  "kernelspec": {
   "display_name": "Python 3 (ipykernel)",
   "language": "python",
   "name": "python3"
  },
  "language_info": {
   "codemirror_mode": {
    "name": "ipython",
    "version": 3
   },
   "file_extension": ".py",
   "mimetype": "text/x-python",
   "name": "python",
   "nbconvert_exporter": "python",
   "pygments_lexer": "ipython3",
   "version": "3.11.4"
  }
 },
 "nbformat": 4,
 "nbformat_minor": 5
}
