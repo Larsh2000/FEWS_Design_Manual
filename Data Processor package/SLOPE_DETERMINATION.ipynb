{
 "cells": [
  {
   "cell_type": "code",
   "execution_count": 1,
   "id": "23a02b9f-a995-406b-8cc0-8b6f60b36cc4",
   "metadata": {
    "tags": []
   },
   "outputs": [],
   "source": [
    "from BACKGROUND_PYTHON_SCRIPTS.FUNCTIONS.my_functions import *"
   ]
  },
  {
   "cell_type": "markdown",
   "id": "775eba2a-265a-4677-bed1-28e897aa158d",
   "metadata": {
    "tags": []
   },
   "source": [
    "<div style=\"background-color: lightblue; padding: 10px 0;\">\n",
    "    <h1 style=\"text-align: center; font-style: italic; margin: 0;\">Data Processor for cross-sectional slope determination</h1>\n",
    "</div>\n",
    "\n",
    "</br>\n",
    "For both the Manning equation as for the boundary condition at the bottleneck in HEC-RAS, the local slope is needed. This file enables you to find this localized slope."
   ]
  },
  {
   "cell_type": "markdown",
   "id": "a1379b5b-4276-4794-b779-a068c0443ec3",
   "metadata": {
    "tags": []
   },
   "source": [
    "</br>\n",
    "<div style=\"background-color: Lightblue; padding: 10px 0;\">\n",
    "    <h2 style=\"text-align: center; font-style: italic; margin: 0;\">Importing Data</h2>\n",
    "</div>\n",
    "\n",
    "</br>\n",
    "\n",
    "For each cross section, three points are needed to make a valid estimate for the local slope:\n",
    "* One waterheight measurement upstream;\n",
    "* One waterheight measurement at the cross section;\n",
    "* One waterheight measurement downstream.\n",
    "\n",
    "The names of these files should be entered in the ***'input.xlsx'*** file, on the ***'Local_slopes'*** sheet. The actual files should be uploaded to the *INPUT* folder. Run the following cell if you have satisfied the stated conditions. "
   ]
  },
  {
   "cell_type": "code",
   "execution_count": null,
   "id": "2757ec2f-1423-4bc4-816e-de0ca44f867f",
   "metadata": {},
   "outputs": [],
   "source": [
    "data = pd.read_excel(f'./input/input.xlsx', sheet_name='Local_slopes')"
   ]
  },
  {
   "cell_type": "markdown",
   "id": "28d92160-31de-469a-85b8-099cbf2596e2",
   "metadata": {},
   "source": [
    "<div style=\"background-color: Lightblue; padding: 10px 0;\">\n",
    "    <h2 style=\"text-align: center; font-style: italic; margin: 0;\">Determining local slopes</h2>\n",
    "</div>\n",
    "\n",
    "</br>\n",
    "Now that the data is loaded, the local slopes can be determined using the next code cell. This code cell makes use of a for loop, that loops through each point and its corresponding files. It fits a linear line through the three waterheights, which represents the estimated slope. "
   ]
  },
  {
   "cell_type": "code",
   "execution_count": 4,
   "id": "ab1abf3f-24d2-4966-8934-bf88c307323a",
   "metadata": {
    "tags": []
   },
   "outputs": [
    {
     "name": "stdout",
     "output_type": "stream",
     "text": [
      "0 0\n",
      "0 1\n",
      "0 2\n",
      "1 0\n",
      "1 1\n",
      "1 2\n",
      "2 0\n",
      "2 1\n",
      "2 2\n"
     ]
    }
   ],
   "source": [
    "data_columns = ['file_point_upstream', 'file_point_cross_section', 'file_point_downstream'] \n",
    "slopes = np.zeros(len(data))\n",
    "\n",
    "for i in range(len(data)):\n",
    "    sticklength = data['sticklength[m]'][i]\n",
    "    waterlevels = np.zeros(3)\n",
    "    latitudes = np.zeros(3)\n",
    "    longitudes = np.zeros(3)\n",
    "    \n",
    "    for q in range(3):\n",
    "        filename = data[data_columns[q]][i]\n",
    "        wl_data = func_read_data(filename, sticklength)\n",
    "        waterlevels[q] = wl_data['height(m)'][-60:-1].mean()\n",
    "        latitudes[q] = wl_data['latitude(deg)'][-60:-1].mean()\n",
    "        longitudes[q] = wl_data['longitude(deg)'][-60:-1].mean()\n",
    "    \n",
    "    distances = func_distance(latitudes, longitudes)\n",
    "    \n",
    "    slopes[i] = np.abs(func_slope(waterlevels, distances))\n",
    "    \n",
    "columns = ['pointname', 'slope']\n",
    "slopes_df = pd.DataFrame(columns=columns)\n",
    "slopes_df['pointname'] = data['pointname']\n",
    "slopes_df['slope'] = slopes\n",
    "slopes_df.to_excel('./output/Local_slopes.xlsx', \n",
    "                            sheet_name='Local_slopes', \n",
    "                            index=False)\n",
    "\n",
    "display(slopes_df)"
   ]
  },
  {
   "cell_type": "code",
   "execution_count": null,
   "id": "a321d98d-4d0a-4251-8c39-d6d213c003ca",
   "metadata": {},
   "outputs": [],
   "source": []
  }
 ],
 "metadata": {
  "kernelspec": {
   "display_name": "Python 3 (ipykernel)",
   "language": "python",
   "name": "python3"
  },
  "language_info": {
   "codemirror_mode": {
    "name": "ipython",
    "version": 3
   },
   "file_extension": ".py",
   "mimetype": "text/x-python",
   "name": "python",
   "nbconvert_exporter": "python",
   "pygments_lexer": "ipython3",
   "version": "3.11.4"
  }
 },
 "nbformat": 4,
 "nbformat_minor": 5
}
